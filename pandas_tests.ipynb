{
 "cells": [
  {
   "cell_type": "code",
   "execution_count": 32,
   "metadata": {},
   "outputs": [],
   "source": [
    "import pandas\n",
    "import numpy as np"
   ]
  },
  {
   "cell_type": "code",
   "execution_count": 98,
   "metadata": {},
   "outputs": [],
   "source": [
    "N = 10\n",
    "\n",
    "index = np.arange(N)\n",
    "col = pandas.read_csv(\"dns.col\")\n",
    "df1 = pandas.DataFrame(index=index, columns=col.columns)"
   ]
  },
  {
   "cell_type": "code",
   "execution_count": 104,
   "metadata": {},
   "outputs": [
    {
     "name": "stdout",
     "output_type": "stream",
     "text": [
      "['CghXHv4P9sybq1dnL' '192.168.202.100' 45658 '192.168.27.203' 137 'udp'\n",
      " 33008 nan\n",
      " '*\\\\x00\\\\x00\\\\x00\\\\x00\\\\x00\\\\x00\\\\x00\\\\x00\\\\x00\\\\x00\\\\x00\\\\x00\\\\x00\\\\x00'\n",
      " 1 'C_INTERNET' 33 'NBSTAT' 0.0 'NOERROR' 1 nan nan False False False\n",
      " False False 1331901005]\n",
      "                 uid              src  sport             dst dport proto  \\\n",
      "0  CghXHv4P9sybq1dnL  192.168.202.100  45658  192.168.27.203   137   udp   \n",
      "1  CghXHv4P9sybq1dnL  192.168.202.100  45658  192.168.27.203   137   udp   \n",
      "2                NaN              NaN    NaN             NaN   NaN   NaN   \n",
      "3                NaN              NaN    NaN             NaN   NaN   NaN   \n",
      "4                NaN              NaN    NaN             NaN   NaN   NaN   \n",
      "5                NaN              NaN    NaN             NaN   NaN   NaN   \n",
      "6                NaN              NaN    NaN             NaN   NaN   NaN   \n",
      "7                NaN              NaN    NaN             NaN   NaN   NaN   \n",
      "8                NaN              NaN    NaN             NaN   NaN   NaN   \n",
      "9                NaN              NaN    NaN             NaN   NaN   NaN   \n",
      "\n",
      "  trans_id  rtt                                              query qclass  \\\n",
      "0    33008  NaN  *\\x00\\x00\\x00\\x00\\x00\\x00\\x00\\x00\\x00\\x00\\x00\\...      1   \n",
      "1    33008  NaN  *\\x00\\x00\\x00\\x00\\x00\\x00\\x00\\x00\\x00\\x00\\x00\\...      1   \n",
      "2      NaN  NaN                                                NaN    NaN   \n",
      "3      NaN  NaN                                                NaN    NaN   \n",
      "4      NaN  NaN                                                NaN    NaN   \n",
      "5      NaN  NaN                                                NaN    NaN   \n",
      "6      NaN  NaN                                                NaN    NaN   \n",
      "7      NaN  NaN                                                NaN    NaN   \n",
      "8      NaN  NaN                                                NaN    NaN   \n",
      "9      NaN  NaN                                                NaN    NaN   \n",
      "\n",
      "   ... rcode_name    Z answers TTLs     AA     TC     RD     RA rejected  \\\n",
      "0  ...    NOERROR    1     NaN  NaN  False  False  False  False    False   \n",
      "1  ...    NOERROR    1     NaN  NaN  False  False  False  False    False   \n",
      "2  ...        NaN  NaN     NaN  NaN    NaN    NaN    NaN    NaN      NaN   \n",
      "3  ...        NaN  NaN     NaN  NaN    NaN    NaN    NaN    NaN      NaN   \n",
      "4  ...        NaN  NaN     NaN  NaN    NaN    NaN    NaN    NaN      NaN   \n",
      "5  ...        NaN  NaN     NaN  NaN    NaN    NaN    NaN    NaN      NaN   \n",
      "6  ...        NaN  NaN     NaN  NaN    NaN    NaN    NaN    NaN      NaN   \n",
      "7  ...        NaN  NaN     NaN  NaN    NaN    NaN    NaN    NaN      NaN   \n",
      "8  ...        NaN  NaN     NaN  NaN    NaN    NaN    NaN    NaN      NaN   \n",
      "9  ...        NaN  NaN     NaN  NaN    NaN    NaN    NaN    NaN      NaN   \n",
      "\n",
      "           ts  \n",
      "0  1331901005  \n",
      "1  1331901005  \n",
      "2         NaN  \n",
      "3         NaN  \n",
      "4         NaN  \n",
      "5         NaN  \n",
      "6         NaN  \n",
      "7         NaN  \n",
      "8         NaN  \n",
      "9         NaN  \n",
      "\n",
      "[10 rows x 24 columns]\n"
     ]
    }
   ],
   "source": [
    "dns_line = pandas.read_csv(\"dns.log\").values[0]\n",
    "#dns_line = pandas.DataFrame(dns_line, columns=col)\n",
    "print(dns_line)\n",
    "df1.loc[1] = dns_line\n",
    "print(df1)\n",
    "#print(pandas.DataFrame(dns_line.loc[0], index=[4]))"
   ]
  },
  {
   "cell_type": "code",
   "execution_count": null,
   "metadata": {},
   "outputs": [],
   "source": []
  },
  {
   "cell_type": "code",
   "execution_count": null,
   "metadata": {},
   "outputs": [],
   "source": []
  }
 ],
 "metadata": {
  "kernelspec": {
   "display_name": "Python 3",
   "language": "python",
   "name": "python3"
  },
  "language_info": {
   "codemirror_mode": {
    "name": "ipython",
    "version": 3
   },
   "file_extension": ".py",
   "mimetype": "text/x-python",
   "name": "python",
   "nbconvert_exporter": "python",
   "pygments_lexer": "ipython3",
   "version": "3.7.4"
  }
 },
 "nbformat": 4,
 "nbformat_minor": 4
}
