{
 "cells": [
  {
   "cell_type": "code",
   "execution_count": 1,
   "metadata": {},
   "outputs": [],
   "source": [
    "import gym\n",
    "import numpy as np\n",
    "import pandas\n",
    "\n",
    "import gym_map_bro\n",
    "import toy_agents\n",
    "\n",
    "env = gym.make('map-bro-v0')\n",
    "env.__myinit__()\n",
    "\n",
    "np.random.seed(0)"
   ]
  },
  {
   "cell_type": "code",
   "execution_count": 2,
   "metadata": {},
   "outputs": [],
   "source": [
    "# Variable initialization for manual looping\n",
    "loop = 0"
   ]
  },
  {
   "cell_type": "code",
   "execution_count": 12,
   "metadata": {},
   "outputs": [
    {
     "data": {
      "image/png": "[encoded data removed]",
      "text/plain": [
       "<Figure size 432x288 with 1 Axes>"
      ]
     },
     "metadata": {
      "needs_background": "light"
     },
     "output_type": "display_data"
    },
    {
     "name": "stdout",
     "output_type": "stream",
     "text": [
      "                  uid              src  sport              dst  age      value\n",
      "0   CTySHd36MODzjqHEh   192.168.202.76    137  192.168.202.255  5.0  29.059196\n",
      "1  C4SrUv2XNVcWGxMKA4  192.168.202.100  45658   192.168.27.202  1.0  26.202015\n",
      "2   CghXHv4P9sybq1dnL  192.168.202.100  45658   192.168.27.203  2.0  18.848646\n",
      "3   CTySHd36MODzjqHEh   192.168.202.76    137  192.168.202.255  1.0  22.604004\n",
      "4   CTySHd36MODzjqHEh   192.168.202.76    137  192.168.202.255  3.0  20.540525\n",
      "5   CTySHd36MODzjqHEh   192.168.202.76    137  192.168.202.255  8.0  37.099603\n",
      "6   CTySHd36MODzjqHEh   192.168.202.76    137  192.168.202.255  2.0  40.999347\n",
      "7   CTySHd36MODzjqHEh   192.168.202.76    137  192.168.202.255  3.0  39.414587\n",
      "8  C4SrUv2XNVcWGxMKA4  192.168.202.100  45658   192.168.27.202  2.0  27.462519\n",
      "9  C4SrUv2XNVcWGxMKA4  192.168.202.100  45658   192.168.27.202  5.0  26.491883\n",
      "[[ 5.         17.15916467]\n",
      " [ 1.         23.58181374]\n",
      " [ 2.         15.2674032 ]\n",
      " [ 1.         20.34360381]\n",
      " [ 3.         14.97404249]\n",
      " [ 8.         15.9701626 ]\n",
      " [ 2.         33.20947102]\n",
      " [ 3.         28.73323359]\n",
      " [ 2.         22.24464027]\n",
      " [ 5.         15.6431921 ]]\n"
     ]
    }
   ],
   "source": [
    "# This cell can be run repeatedly to import new batchs of 5 lines\n",
    "# PROBLEM: at the moment it's rendering and I don't know why\n",
    "# New batch of 5 lines, here represented by 5 random values\n",
    "\n",
    "batch = pandas.read_csv(\"dns.log\", header=loop)\n",
    "values = np.random.exponential([10.0, 10.0, 10.0, 10.0, 10.0])\n",
    "\n",
    "toy_agents.batch_load(env, batch, values)\n",
    "env.render()\n",
    "\n",
    "loop += 5"
   ]
  },
  {
   "cell_type": "code",
   "execution_count": null,
   "metadata": {},
   "outputs": [],
   "source": []
  }
 ],
 "metadata": {
  "kernelspec": {
   "display_name": "Python 3",
   "language": "python",
   "name": "python3"
  },
  "language_info": {
   "codemirror_mode": {
    "name": "ipython",
    "version": 3
   },
   "file_extension": ".py",
   "mimetype": "text/x-python",
   "name": "python",
   "nbconvert_exporter": "python",
   "pygments_lexer": "ipython3",
   "version": "3.7.4"
  }
 },
 "nbformat": 4,
 "nbformat_minor": 4
}
