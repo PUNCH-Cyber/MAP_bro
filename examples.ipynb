{
 "cells": [
  {
   "cell_type": "code",
   "execution_count": 1,
   "metadata": {},
   "outputs": [],
   "source": [
    "import gym\n",
    "import numpy as np\n",
    "import pandas\n",
    "\n",
    "import gym_map_bro\n",
    "import toy_agents\n",
    "\n",
    "env = gym.make('map-bro-v0')\n",
    "env.__myinit__()\n",
    "\n",
    "np.random.seed(0)\n",
    "\n",
    "# Variable initialization for manual looping\n",
    "loop = 0"
   ]
  },
  {
   "cell_type": "code",
   "execution_count": 7,
   "metadata": {},
   "outputs": [
    {
     "data": {
      "image/png": "[encoded data removed]",
      "text/plain": [
       "<Figure size 432x288 with 1 Axes>"
      ]
     },
     "metadata": {
      "needs_background": "light"
     },
     "output_type": "display_data"
    },
    {
     "name": "stdout",
     "output_type": "stream",
     "text": [
      "Uncompressed Database:\n",
      "                  uid              src  sport              dst  age      value\n",
      "0   CTySHd36MODzjqHEh   192.168.202.76    137  192.168.202.255  3.0  24.554041\n",
      "1  C4SrUv2XNVcWGxMKA4  192.168.202.100  45658   192.168.27.202  6.0  23.632553\n",
      "2   CTySHd36MODzjqHEh   192.168.202.76    137  192.168.202.255  6.0  17.372072\n",
      "3   CTySHd36MODzjqHEh   192.168.202.76    137  192.168.202.255  3.0  57.009206\n",
      "4   CTySHd36MODzjqHEh   192.168.202.76    137  192.168.202.255  4.0  18.576388\n",
      "5   CTySHd36MODzjqHEh   192.168.202.76    137  192.168.202.255  1.0  13.623691\n",
      "6   CTySHd36MODzjqHEh   192.168.202.76    137  192.168.202.255  5.0  44.865382\n",
      "7   CTySHd36MODzjqHEh   192.168.202.76    137  192.168.202.255  4.0  40.119172\n",
      "8   CTySHd36MODzjqHEh   192.168.202.76    137  192.168.202.255  5.0  18.642922\n",
      "9   CghXHv4P9sybq1dnL  192.168.202.100  45658   192.168.27.203  4.0  24.057502\n",
      "Compressed Database:\n",
      "                  uid              src  sport              dst  age     value\n",
      "0   CghXHv4P9sybq1dnL  192.168.202.100  45658   192.168.27.203  5.0  0.835326\n",
      "1   CTySHd36MODzjqHEh   192.168.202.76    137  192.168.202.255  3.0  8.338069\n",
      "2   CghXHv4P9sybq1dnL  192.168.202.100  45658   192.168.27.203  2.0  6.402748\n",
      "3   CTySHd36MODzjqHEh   192.168.202.76    137  192.168.202.255  1.0  2.484111\n",
      "4   CTySHd36MODzjqHEh   192.168.202.76    137  192.168.202.255  2.0  3.474230\n",
      "5   CTySHd36MODzjqHEh   192.168.202.76    137  192.168.202.255  2.0  4.403607\n",
      "6   CTySHd36MODzjqHEh   192.168.202.76    137  192.168.202.255  2.0  4.742305\n",
      "7   CghXHv4P9sybq1dnL  192.168.202.100  45658   192.168.27.203  1.0  4.494332\n",
      "8  C4SrUv2XNVcWGxMKA4  192.168.202.100  45658   192.168.27.202  1.0  1.879701\n",
      "9   CTySHd36MODzjqHEh   192.168.202.76    137  192.168.202.255  1.0  2.977216\n"
     ]
    },
    {
     "data": {
      "text/plain": [
       "0"
      ]
     },
     "execution_count": 7,
     "metadata": {},
     "output_type": "execute_result"
    }
   ],
   "source": [
    "# This cell can be run repeatedly to import new batches from a bro file\n",
    "\n",
    "# New batch of 5 lines, here represented by 5 random values\n",
    "batch = pandas.read_csv(\"dns.log\", header=loop)\n",
    "values = np.random.exponential([10.0, 10.0, 10.0, 10.0, 10.0])\n",
    "loop += 5\n",
    "\n",
    "toy_agents.batch_load(env, batch, values)\n",
    "env.render()"
   ]
  },
  {
   "cell_type": "code",
   "execution_count": null,
   "metadata": {},
   "outputs": [],
   "source": []
  }
 ],
 "metadata": {
  "kernelspec": {
   "display_name": "Python 3",
   "language": "python",
   "name": "python3"
  },
  "language_info": {
   "codemirror_mode": {
    "name": "ipython",
    "version": 3
   },
   "file_extension": ".py",
   "mimetype": "text/x-python",
   "name": "python",
   "nbconvert_exporter": "python",
   "pygments_lexer": "ipython3",
   "version": "3.7.4"
  }
 },
 "nbformat": 4,
 "nbformat_minor": 4
}
