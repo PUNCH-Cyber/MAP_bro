{
 "cells": [
  {
   "cell_type": "code",
   "execution_count": null,
   "metadata": {},
   "outputs": [],
   "source": [
    "import gym\n",
    "import numpy as np\n",
    "import pandas\n",
    "import matplotlib.pyplot as plt\n",
    "import gym_map_bro\n",
    "import toy_agents\n",
    "\n",
    "env = gym.make('map-bro-v0')"
   ]
  },
  {
   "cell_type": "code",
   "execution_count": null,
   "metadata": {},
   "outputs": [],
   "source": [
    "env.__myinit__()\n",
    "np.random.seed(0)\n",
    "\n",
    "# Variable initialization for manual looping\n",
    "loop = 0\n",
    "\n",
    "# Variables for keeping track of total values over time\n",
    "vals = np.array([0,0])\n",
    "t = 0"
   ]
  },
  {
   "cell_type": "code",
   "execution_count": null,
   "metadata": {},
   "outputs": [],
   "source": [
    "# This cell can be run repeatedly to import new batches from a bro file\n",
    "\n",
    "# New batch of 5 lines, here represented by 5 random values\n",
    "batch = pandas.read_csv(\"dns.log\", header=loop)\n",
    "values = np.random.exponential([10.0, 10.0, 10.0, 10.0, 10.0])\n",
    "loop += 5\n",
    "\n",
    "toy_agents.batch_load(env, batch, values, 10)\n",
    "\n",
    "vals = np.vstack((vals, np.array([np.sum(env.values0_init[:,1]),np.sum(env.values1_init[:,1])])))\n",
    "t += 1\n",
    "\n",
    "env.render(out=0)\n",
    "\n",
    "sub = plt.subplot()\n",
    "sub.plot(np.arange(t+1),vals[:,0], c = 'b', label = 'Uncompressed')\n",
    "sub.plot(np.arange(t+1),vals[:,1], c = 'r', label = 'Compressed')\n",
    "sub.set_title('Current Value vs Time')\n",
    "sub.set_xlabel('Time')\n",
    "sub.set_ylabel('Current Value')\n",
    "sub.legend(loc=2)\n",
    "plt.show()\n",
    "\n",
    "env.render(out=1)\n",
    "print(env.del_val)"
   ]
  },
  {
   "cell_type": "code",
   "execution_count": null,
   "metadata": {},
   "outputs": [],
   "source": [
    "env.__myinit__()\n",
    "#np.random.seed(0)\n",
    "\n",
    "# Variable initialization for manual looping\n",
    "loop = 0\n",
    "\n",
    "# Variables for keeping track of total values over time\n",
    "vals = np.array([0,0])\n",
    "t = 0"
   ]
  },
  {
   "cell_type": "code",
   "execution_count": null,
   "metadata": {},
   "outputs": [],
   "source": [
    "# This cell can be run repeatedly to import new batches from a bro file\n",
    "\n",
    "# New batch of 5 lines, here represented by 5 random values\n",
    "batch = pandas.read_csv(\"dns.log\", header=loop)\n",
    "values = np.random.exponential([10.0, 10.0, 10.0, 10.0, 10.0])\n",
    "loop += 5\n",
    "\n",
    "toy_agents.batch_load(env, batch, values, 100)\n",
    "\n",
    "vals = np.vstack((vals, np.array([np.sum(env.values0_init[:,1]),np.sum(env.values1_init[:,1])])))\n",
    "t += 1\n",
    "\n",
    "env.render(out=0)\n",
    "\n",
    "sub = plt.subplot()\n",
    "sub.plot(np.arange(t+1),vals[:,0], c = 'b', label = 'Uncompressed')\n",
    "sub.plot(np.arange(t+1),vals[:,1], c = 'r', label = 'Compressed')\n",
    "sub.set_title('Current Value vs Time')\n",
    "sub.set_xlabel('Time')\n",
    "sub.set_ylabel('Current Value')\n",
    "sub.legend(loc=2)\n",
    "plt.show()\n",
    "\n",
    "env.render(out=1)"
   ]
  },
  {
   "cell_type": "code",
   "execution_count": null,
   "metadata": {},
   "outputs": [],
   "source": []
  }
 ],
 "metadata": {
  "kernelspec": {
   "display_name": "Python 3",
   "language": "python",
   "name": "python3"
  },
  "language_info": {
   "codemirror_mode": {
    "name": "ipython",
    "version": 3
   },
   "file_extension": ".py",
   "mimetype": "text/x-python",
   "name": "python",
   "nbconvert_exporter": "python",
   "pygments_lexer": "ipython3",
   "version": "3.7.4"
  }
 },
 "nbformat": 4,
 "nbformat_minor": 4
}
