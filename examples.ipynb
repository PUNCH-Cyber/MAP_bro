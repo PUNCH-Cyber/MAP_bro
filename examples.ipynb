{
 "cells": [
  {
   "cell_type": "code",
   "execution_count": 1,
   "metadata": {},
   "outputs": [],
   "source": [
    "import gym\n",
    "import numpy as np\n",
    "import pandas\n",
    "\n",
    "import gym_map_bro\n",
    "import toy_agents\n",
    "\n",
    "env = gym.make('map-bro-v0')\n",
    "env.__myinit__()\n",
    "\n",
    "np.random.seed(0)\n",
    "\n",
    "# Variable initialization for manual looping\n",
    "loop = 0"
   ]
  },
  {
   "cell_type": "code",
   "execution_count": 17,
   "metadata": {},
   "outputs": [
    {
     "data": {
      "image/png": "[encoded data removed]",
      "text/plain": [
       "<Figure size 432x288 with 1 Axes>"
      ]
     },
     "metadata": {
      "needs_background": "light"
     },
     "output_type": "display_data"
    },
    {
     "name": "stdout",
     "output_type": "stream",
     "text": [
      "                  uid              src  sport              dst  age      value\n",
      "0   CTySHd36MODzjqHEh   192.168.202.76    137  192.168.202.255  1.0   9.965029\n",
      "1  C4SrUv2XNVcWGxMKA4  192.168.202.100  45658   192.168.27.202  6.0  26.202015\n",
      "2   CTySHd36MODzjqHEh   192.168.202.76    137  192.168.202.255  1.0  32.806202\n",
      "3   CTySHd36MODzjqHEh   192.168.202.76    137  192.168.202.255  6.0  22.604004\n",
      "4  C4SrUv2XNVcWGxMKA4  192.168.202.100  45658   192.168.27.202  1.0  19.092505\n",
      "5   CTySHd36MODzjqHEh   192.168.202.76    137  192.168.202.255  2.0  13.002767\n",
      "6   CTySHd36MODzjqHEh   192.168.202.76    137  192.168.202.255  7.0  40.999347\n",
      "7   CTySHd36MODzjqHEh   192.168.202.76    137  192.168.202.255  8.0  39.414587\n",
      "8  C4SrUv2XNVcWGxMKA4  192.168.202.100  45658   192.168.27.202  7.0  27.462519\n",
      "9   CTySHd36MODzjqHEh   192.168.202.76    137  192.168.202.255  4.0  15.876293\n"
     ]
    },
    {
     "data": {
      "text/plain": [
       "0"
      ]
     },
     "execution_count": 17,
     "metadata": {},
     "output_type": "execute_result"
    }
   ],
   "source": [
    "# This cell can be run repeatedly to import new batches from a bro file\n",
    "\n",
    "# New batch of 5 lines, here represented by 5 random values\n",
    "batch = pandas.read_csv(\"dns.log\", header=loop)\n",
    "values = np.random.exponential([10.0, 10.0, 10.0, 10.0, 10.0])\n",
    "loop += 5\n",
    "\n",
    "toy_agents.batch_load(env, batch, values)\n",
    "env.render()"
   ]
  },
  {
   "cell_type": "code",
   "execution_count": null,
   "metadata": {},
   "outputs": [],
   "source": []
  }
 ],
 "metadata": {
  "kernelspec": {
   "display_name": "Python 3",
   "language": "python",
   "name": "python3"
  },
  "language_info": {
   "codemirror_mode": {
    "name": "ipython",
    "version": 3
   },
   "file_extension": ".py",
   "mimetype": "text/x-python",
   "name": "python",
   "nbconvert_exporter": "python",
   "pygments_lexer": "ipython3",
   "version": "3.7.4"
  }
 },
 "nbformat": 4,
 "nbformat_minor": 4
}
