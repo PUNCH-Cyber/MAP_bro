{
 "cells": [
  {
   "cell_type": "code",
   "execution_count": 1,
   "metadata": {},
   "outputs": [],
   "source": [
    "import gym\n",
    "import numpy as np\n",
    "import gym_map_bro\n",
    "import toy_agents\n",
    "import pandas\n",
    "\n",
    "env = gym.make('map-bro-v0')"
   ]
  },
  {
   "cell_type": "code",
   "execution_count": 2,
   "metadata": {},
   "outputs": [],
   "source": [
    "env.__myinit__()"
   ]
  },
  {
   "cell_type": "code",
   "execution_count": 3,
   "metadata": {},
   "outputs": [
    {
     "name": "stdout",
     "output_type": "stream",
     "text": [
      "[5.06067846 3.5632957  4.57512962 5.09605135 6.18710681]\n"
     ]
    }
   ],
   "source": [
    "# New batch of 5 lines, here represented by 5 random values\n",
    "np.random.seed(0)\n",
    "new_batch = np.random.uniform([10.0, 10.0, 10.0, 10.0, 10.0])\n",
    "print(new_batch)\n",
    "batch = pandas.read_csv(\"dns.log\", header=1)"
   ]
  },
  {
   "cell_type": "code",
   "execution_count": 4,
   "metadata": {},
   "outputs": [
    {
     "name": "stdout",
     "output_type": "stream",
     "text": [
      "[[ 0.45180005 -4.85718514]\n",
      " [ 0.05124368 -1.64849026]\n",
      " [ 1.04489175 -2.77144844]\n",
      " [ 1.53060843 -3.92820543]\n",
      " [ 1.10612078 -6.18710681]\n",
      " [ 0.          0.        ]]\n"
     ]
    }
   ],
   "source": [
    "# Run the Q agent\n",
    "lr = .9\n",
    "y = .95\n",
    "num_episodes = 100\n",
    "Q, rList = toy_agents.delayed_reward_agent(env, new_batch, lr, y, num_episodes)\n",
    "print(Q)"
   ]
  },
  {
   "cell_type": "code",
   "execution_count": 5,
   "metadata": {},
   "outputs": [
    {
     "name": "stdout",
     "output_type": "stream",
     "text": [
      "[0 0 0 0 0]\n",
      "[[0.         5.06067846]\n",
      " [0.         6.18710681]\n",
      " [0.         6.18710681]\n",
      " [0.         6.18710681]\n",
      " [0.         6.18710681]\n",
      " [0.         6.18710681]\n",
      " [0.         6.18710681]\n",
      " [0.         6.18710681]\n",
      " [0.         6.18710681]\n",
      " [0.         6.18710681]] 5.060678464654077\n",
      "[[0.         3.5632957 ]\n",
      " [0.         6.18710681]\n",
      " [0.         6.18710681]\n",
      " [0.         6.18710681]\n",
      " [0.         6.18710681]\n",
      " [0.         6.18710681]\n",
      " [0.         6.18710681]\n",
      " [0.         6.18710681]\n",
      " [0.         6.18710681]\n",
      " [0.         6.18710681]] 3.563295702648225\n",
      "[[0.         4.57512962]\n",
      " [0.         6.18710681]\n",
      " [0.         6.18710681]\n",
      " [0.         6.18710681]\n",
      " [0.         6.18710681]\n",
      " [0.         6.18710681]\n",
      " [0.         6.18710681]\n",
      " [0.         6.18710681]\n",
      " [0.         6.18710681]\n",
      " [0.         6.18710681]] 4.5751296153552055\n",
      "[[0.         5.09605135]\n",
      " [0.         6.18710681]\n",
      " [0.         6.18710681]\n",
      " [0.         6.18710681]\n",
      " [0.         6.18710681]\n",
      " [0.         6.18710681]\n",
      " [0.         6.18710681]\n",
      " [0.         6.18710681]\n",
      " [0.         6.18710681]\n",
      " [0.         6.18710681]] 5.096051353027928\n",
      "[[0.         6.18710681]\n",
      " [0.         6.18710681]\n",
      " [0.         6.18710681]\n",
      " [0.         6.18710681]\n",
      " [0.         6.18710681]\n",
      " [0.         6.18710681]\n",
      " [0.         6.18710681]\n",
      " [0.         6.18710681]\n",
      " [0.         6.18710681]\n",
      " [0.         6.18710681]] 6.187106805949858\n",
      "[[1.         5.56839613]\n",
      " [1.         5.56839613]\n",
      " [1.         5.56839613]\n",
      " [1.         5.56839613]\n",
      " [1.         5.56839613]\n",
      " [1.         5.56839613]\n",
      " [1.         5.56839613]\n",
      " [1.         5.56839613]\n",
      " [1.         5.56839613]\n",
      " [1.         5.56839613]]\n",
      "                 uid             src sport              dst dport proto  \\\n",
      "0  CTySHd36MODzjqHEh  192.168.202.76   137  192.168.202.255   137   udp   \n",
      "1                NaN             NaN   NaN              NaN   NaN   NaN   \n",
      "2                NaN             NaN   NaN              NaN   NaN   NaN   \n",
      "3                NaN             NaN   NaN              NaN   NaN   NaN   \n",
      "4                NaN             NaN   NaN              NaN   NaN   NaN   \n",
      "5                NaN             NaN   NaN              NaN   NaN   NaN   \n",
      "6                NaN             NaN   NaN              NaN   NaN   NaN   \n",
      "7                NaN             NaN   NaN              NaN   NaN   NaN   \n",
      "8                NaN             NaN   NaN              NaN   NaN   NaN   \n",
      "9                NaN             NaN   NaN              NaN   NaN   NaN   \n",
      "\n",
      "  trans_id  rtt query qclass  ... rcode_name    Z answers TTLs     AA     TC  \\\n",
      "0    57398  NaN  WPAD      1  ...        NaN    1     NaN  NaN  False  False   \n",
      "1      NaN  NaN   NaN    NaN  ...        NaN  NaN     NaN  NaN    NaN    NaN   \n",
      "2      NaN  NaN   NaN    NaN  ...        NaN  NaN     NaN  NaN    NaN    NaN   \n",
      "3      NaN  NaN   NaN    NaN  ...        NaN  NaN     NaN  NaN    NaN    NaN   \n",
      "4      NaN  NaN   NaN    NaN  ...        NaN  NaN     NaN  NaN    NaN    NaN   \n",
      "5      NaN  NaN   NaN    NaN  ...        NaN  NaN     NaN  NaN    NaN    NaN   \n",
      "6      NaN  NaN   NaN    NaN  ...        NaN  NaN     NaN  NaN    NaN    NaN   \n",
      "7      NaN  NaN   NaN    NaN  ...        NaN  NaN     NaN  NaN    NaN    NaN   \n",
      "8      NaN  NaN   NaN    NaN  ...        NaN  NaN     NaN  NaN    NaN    NaN   \n",
      "9      NaN  NaN   NaN    NaN  ...        NaN  NaN     NaN  NaN    NaN    NaN   \n",
      "\n",
      "     RD     RA rejected          ts  \n",
      "0  True  False    False  1.3319e+09  \n",
      "1   NaN    NaN      NaN         NaN  \n",
      "2   NaN    NaN      NaN         NaN  \n",
      "3   NaN    NaN      NaN         NaN  \n",
      "4   NaN    NaN      NaN         NaN  \n",
      "5   NaN    NaN      NaN         NaN  \n",
      "6   NaN    NaN      NaN         NaN  \n",
      "7   NaN    NaN      NaN         NaN  \n",
      "8   NaN    NaN      NaN         NaN  \n",
      "9   NaN    NaN      NaN         NaN  \n",
      "\n",
      "[10 rows x 24 columns]\n"
     ]
    }
   ],
   "source": [
    "# Determine best actions for the batch\n",
    "batch_actions = np.argmax(Q, axis=1)\n",
    "print(batch_actions[0:5])\n",
    "\n",
    "# Perform the recommended actions\n",
    "env.time_step(batch, new_batch, batch_actions[0:5])\n",
    "print(env.values0_init)\n",
    "print(env.df0)"
   ]
  },
  {
   "cell_type": "code",
   "execution_count": null,
   "metadata": {},
   "outputs": [],
   "source": []
  }
 ],
 "metadata": {
  "kernelspec": {
   "display_name": "Python 3",
   "language": "python",
   "name": "python3"
  },
  "language_info": {
   "codemirror_mode": {
    "name": "ipython",
    "version": 3
   },
   "file_extension": ".py",
   "mimetype": "text/x-python",
   "name": "python",
   "nbconvert_exporter": "python",
   "pygments_lexer": "ipython3",
   "version": "3.7.4"
  }
 },
 "nbformat": 4,
 "nbformat_minor": 4
}
